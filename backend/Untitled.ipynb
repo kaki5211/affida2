{
 "cells": [
  {
   "cell_type": "code",
   "execution_count": 4,
   "id": "519f56e7",
   "metadata": {},
   "outputs": [
    {
     "name": "stdout",
     "output_type": "stream",
     "text": [
      "The ipykernel.eventloops module is not an IPython extension.\n"
     ]
    }
   ],
   "source": [
    "%load_ext ipykernel.eventloops\n",
    "%gui asyncio\n",
    "\n"
   ]
  },
  {
   "cell_type": "code",
   "execution_count": null,
   "id": "ee44bcfd",
   "metadata": {},
   "outputs": [],
   "source": [
    "import os\n",
    "import django\n",
    "\n",
    "os.environ.setdefault('DJANGO_SETTINGS_MODULE', 'backend.settings')\n",
    "django.setup()\n",
    "\n",
    "from serializer.models import Video\n",
    "\n",
    "# 新しいオブジェクトを作成して保存する\n",
    "new_object = Video.objects.all()\n",
    "new_object"
   ]
  },
  {
   "cell_type": "code",
   "execution_count": 16,
   "id": "68841038",
   "metadata": {},
   "outputs": [
    {
     "name": "stderr",
     "output_type": "stream",
     "text": [
      "UsageError: Line magic function `%django` not found.\n"
     ]
    }
   ],
   "source": [
    "# !pip install django-extensions\n",
    "# %load_ext django_extensions\n",
    "%django manage.py shell\n",
    "from serializer.models import Video\n",
    "\n",
    "\n",
    "# 新しいオブジェクトを作成して保存する\n",
    "new_object = Video.objects.all()\n",
    "new_object"
   ]
  },
  {
   "cell_type": "code",
   "execution_count": null,
   "id": "4f3cef3c",
   "metadata": {},
   "outputs": [],
   "source": [
    "from serializer.models import Video\n",
    "\n",
    "# 新しいオブジェクトを作成して保存する\n",
    "new_object = Video.objects.all()\n",
    "new_object"
   ]
  },
  {
   "cell_type": "code",
   "execution_count": null,
   "id": "1264795b",
   "metadata": {},
   "outputs": [],
   "source": []
  }
 ],
 "metadata": {
  "kernelspec": {
   "display_name": "Python 3 (ipykernel)",
   "language": "python",
   "name": "python3"
  },
  "language_info": {
   "codemirror_mode": {
    "name": "ipython",
    "version": 3
   },
   "file_extension": ".py",
   "mimetype": "text/x-python",
   "name": "python",
   "nbconvert_exporter": "python",
   "pygments_lexer": "ipython3",
   "version": "3.10.7"
  }
 },
 "nbformat": 4,
 "nbformat_minor": 5
}
