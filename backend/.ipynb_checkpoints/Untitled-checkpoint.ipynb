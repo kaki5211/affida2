{
 "cells": [
  {
   "cell_type": "code",
   "execution_count": 24,
   "id": "519f56e7",
   "metadata": {},
   "outputs": [],
   "source": [
    "import os\n",
    "import django\n",
    "\n",
    "os.environ.setdefault('DJANGO_SETTINGS_MODULE', 'backend.settings')\n",
    "django.setup()\n",
    "\n",
    "# from your_app.models import YourModel\n",
    "\n",
    "# # 新しいオブジェクトを作成して保存する\n",
    "# new_object = YourModel(field1=value1, field2=value2)\n",
    "# new_object.save()"
   ]
  },
  {
   "cell_type": "code",
   "execution_count": 6,
   "id": "ee44bcfd",
   "metadata": {},
   "outputs": [
    {
     "ename": "ImportError",
     "evalue": "attempted relative import with no known parent package",
     "output_type": "error",
     "traceback": [
      "\u001b[1;31m---------------------------------------------------------------------------\u001b[0m",
      "\u001b[1;31mImportError\u001b[0m                               Traceback (most recent call last)",
      "Cell \u001b[1;32mIn [6], line 1\u001b[0m\n\u001b[1;32m----> 1\u001b[0m \u001b[38;5;28;01mfrom\u001b[39;00m \u001b[38;5;21;01m.\u001b[39;00m\u001b[38;5;21;01mserializer\u001b[39;00m\u001b[38;5;21;01m.\u001b[39;00m\u001b[38;5;21;01mmodels\u001b[39;00m \u001b[38;5;28;01mimport\u001b[39;00m Video\n\u001b[0;32m      3\u001b[0m \u001b[38;5;66;03m# 新しいオブジェクトを作成して保存する\u001b[39;00m\n\u001b[0;32m      4\u001b[0m new_object \u001b[38;5;241m=\u001b[39m Video\u001b[38;5;241m.\u001b[39mobjects\u001b[38;5;241m.\u001b[39mall()\n",
      "\u001b[1;31mImportError\u001b[0m: attempted relative import with no known parent package"
     ]
    }
   ],
   "source": [
    "from .serializer.models import Video\n",
    "\n",
    "# 新しいオブジェクトを作成して保存する\n",
    "new_object = Video.objects.all()\n",
    "new_object"
   ]
  },
  {
   "cell_type": "code",
   "execution_count": null,
   "id": "68841038",
   "metadata": {},
   "outputs": [],
   "source": []
  }
 ],
 "metadata": {
  "kernelspec": {
   "display_name": "Python 3 (ipykernel)",
   "language": "python",
   "name": "python3"
  },
  "language_info": {
   "codemirror_mode": {
    "name": "ipython",
    "version": 3
   },
   "file_extension": ".py",
   "mimetype": "text/x-python",
   "name": "python",
   "nbconvert_exporter": "python",
   "pygments_lexer": "ipython3",
   "version": "3.10.7"
  }
 },
 "nbformat": 4,
 "nbformat_minor": 5
}
